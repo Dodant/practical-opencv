{
 "cells": [
  {
   "cell_type": "code",
   "execution_count": 3,
   "metadata": {},
   "outputs": [],
   "source": [
    "# 외곽으로 그려진 영역을 반듯하게 변환하기 \n",
    "\n",
    "import numpy as np\n",
    "import cv2\n",
    "\n",
    "def wrapAffine():\n",
    "    img = cv2.imread('../images/affine.png')\n",
    "    \n",
    "    pts1 = np.float32([[50,50], [200,50], [20,200]])\n",
    "    pts2 = np.float32([[70,100], [220,50], [150,250]])\n",
    "    \n",
    "    M = cv2.getAffineTransform(pts1, pts2)\n",
    "    \n",
    "    result = cv2.warpAffine(img, M, (350, 300))\n",
    "    \n",
    "    cv2.imshow('Original', img)\n",
    "    cv2.waitKey(0)\n",
    "    cv2.imshow('Affine Trandform', result)\n",
    "    cv2.waitKey(0)\n",
    "    cv2.destroyAllWindows()\n",
    "    cv2.waitKey(1)\n",
    "        \n",
    "if __name__ == '__main__':\n",
    "    wrapAffine()"
   ]
  },
  {
   "cell_type": "code",
   "execution_count": 8,
   "metadata": {},
   "outputs": [],
   "source": [
    "# 포인트를 지정하지 않고 자동으로 반듯하게 하는 방법\n",
    "\n",
    "import numpy as np\n",
    "import cv2\n",
    "\n",
    "def warpPerspective():\n",
    "    img = cv2.imread('../images/book.png')\n",
    "\n",
    "    topLeft = [172,110]\n",
    "    topRight = [780,105]\n",
    "    botRight = [1018,800]\n",
    "    botLeft = [38,850]\n",
    "    \n",
    "    pts1 = np.float32([topLeft, topRight, botRight, botLeft])\n",
    "\n",
    "    w1 = abs(botRight[0] - botLeft[0])\n",
    "    w2 = abs(topRight[0] - topLeft[0])\n",
    "    h1 = abs(topRight[1] - botRight[1])\n",
    "    h2 = abs(topLeft[1] - botLeft[1])\n",
    "    minWidth = min([w1, w2])\n",
    "    minHeight = min([h1, h2])\n",
    "    \n",
    "    pts2 = np.float32([[0,0], [minWidth-1,0], [minWidth-1, minHeight-1], [0,minHeight-1]])\n",
    "    \n",
    "    M = cv2.getPerspectiveTransform(pts1, pts2)\n",
    "    \n",
    "    result = cv2.warpPerspective(img, M, (int(minWidth), int(minHeight)))\n",
    "    \n",
    "    cv2.imshow('Original', img)\n",
    "    cv2.waitKey(0)\n",
    "    cv2.imshow('Wrap Trandform', result)\n",
    "    cv2.waitKey(0)\n",
    "    cv2.destroyAllWindows()\n",
    "    cv2.waitKey(1)\n",
    "\n",
    "if __name__ == '__main__':\n",
    "    warpPerspective()"
   ]
  }
 ],
 "metadata": {
  "kernelspec": {
   "display_name": "Python 3",
   "language": "python",
   "name": "python3"
  },
  "language_info": {
   "codemirror_mode": {
    "name": "ipython",
    "version": 3
   },
   "file_extension": ".py",
   "mimetype": "text/x-python",
   "name": "python",
   "nbconvert_exporter": "python",
   "pygments_lexer": "ipython3",
   "version": "3.7.5"
  }
 },
 "nbformat": 4,
 "nbformat_minor": 2
}
